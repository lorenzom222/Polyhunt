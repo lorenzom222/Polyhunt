{
 "cells": [
  {
   "cell_type": "code",
   "execution_count": 1,
   "metadata": {},
   "outputs": [],
   "source": [
    "import numpy as np\n",
    "import matplotlib.pyplot as plt\n",
    "import time\n",
    "import argparse\n",
    "import sys"
   ]
  },
  {
   "cell_type": "code",
   "execution_count": 2,
   "metadata": {},
   "outputs": [],
   "source": [
    "def load_data(filepath):\n",
    "    \"\"\"    \n",
    "    Parameters:\n",
    "    filepath (cvs): training data.\n",
    "\n",
    "    Returns:\n",
    "    x (np.array) : inputs, attributes.\n",
    "    y (np.array) : outputs.\n",
    "\n",
    "    \"\"\"\n",
    "    X, y = [], []\n",
    "    with open(filepath, 'r') as file:\n",
    "        for line in file:\n",
    "            x, y_ = line.strip().split(',')\n",
    "            X.append(float(x))\n",
    "            y.append(float(y_))\n",
    "    return np.array(X), np.array(y)\n",
    "\n",
    "\n",
    "def load_sol_data(filepath):\n",
    "    \"\"\"    \n",
    "    Parameters:\n",
    "    filepath (cvs): solution data.\n",
    "\n",
    "    Returns:\n",
    "    m (int) : polynomial degree.\n",
    "    w (np.array) : weights.\n",
    "\n",
    "    \"\"\"\n",
    "    with open(filepath, 'r') as file:\n",
    "        m = int(file.readline().strip())\n",
    "        w = []\n",
    "        for line in file:\n",
    "            w_ = float(line.strip())\n",
    "            w.append(w_)\n",
    "    return m, np.array(w)\n",
    "\n",
    "\n",
    "\n",
    "def create_phi(x, degree):\n",
    "    \"\"\"\n",
    "    This function creates a matrix of x values raised to powers.\n",
    "    :param x: numpy array of input data\n",
    "    :param degree: degree of the polynomial\n",
    "    :return: matrix of x values raised to powers\n",
    "    \"\"\"\n",
    "    matrix = np.zeros((len(x), degree + 1))\n",
    "    for i in range(len(x)):\n",
    "        for j in range(degree + 1):\n",
    "            matrix[i][j] = x[i] ** j\n",
    "    return matrix\n",
    "\n",
    "\n",
    "def regularized_linear_regression(phi, t, lambda_):\n",
    "    \"\"\"\n",
    "    Find the best fitting regularized weights for a linear model using equation 3.28 from PRML.\n",
    "\n",
    "    Parameters:\n",
    "    X : Training data input. (trainPath)\n",
    "    y : Training data output. (modelOutput)\n",
    "    lambda_ : Regularization parameter.\n",
    "\n",
    "    Returns:\n",
    "    w : Best regularized weights.\n",
    "    \"\"\"\n",
    "    i, size = phi.shape\n",
    "    phi_t = phi.transpose()\n",
    "    phit_phi = np.matmul(phi_t, phi)\n",
    "    id = np.identity(size)\n",
    "    phit_phi += lambda_ * id\n",
    "    phit_phi_inv = np.linalg.inv(phit_phi)\n",
    "    w_reg = np.matmul(phit_phi_inv, phi_t)\n",
    "    w = np.matmul(w_reg, t)\n",
    "    return w\n",
    "\n",
    "\n",
    "# def sweep(X, m, lambda_):\n",
    "#     \"\"\"\n",
    "#     Sweep up to max polynomial (m).\n",
    "\n",
    "#     Parameters:\n",
    "#     X : Training data input. (trainPath)\n",
    "#     m : Given polynomial.\n",
    "#     lambda_ : Regularization parameter.\n",
    "\n",
    "#     Returns:\n",
    "#     weight_list : List of best regularized weights per polynomial.\n",
    "#     \"\"\"\n",
    "#     weight_list = []\n",
    "#     for i in range(m+1):\n",
    "#         phi_m = create_phi(X, i)\n",
    "#         weight = regularized_linear_regression(phi_m, t, 0)\n",
    "#         weight_list.append(weight)\n",
    "#     return weight_list\n",
    "\n",
    "\n",
    "def prediction(X, phi, w):\n",
    "    \"\"\"\n",
    "    Compute prediction for polynomial regression.\n",
    "\n",
    "    Parameters:\n",
    "    X (np.array) : Training data input.\n",
    "    phi (matrix) : Matrix of x values raised to powers.\n",
    "    w (np.array) : Best regularized weights.\n",
    "\n",
    "    Returns:\n",
    "    y(X, phi, w) : prediction.\n",
    "    \"\"\"\n",
    "\n",
    "    return np.dot(phi, w)\n",
    "\n",
    "\n",
    "def small_phi(phi, r):\n",
    "    return phi[r]\n",
    "\n",
    "\n",
    "def errorfunction(y, t):\n",
    "    error = 0.0\n",
    "    for i in range(len(y)):\n",
    "        error += (y[i]-t[i])**2\n",
    "\n",
    "    return 1/2*error\n",
    "\n",
    "def split_data(x, t, ratio):\n",
    "    # Shuffle data\n",
    "    shuffle_index = np.random.permutation(len(x))\n",
    "    x = x[shuffle_index]\n",
    "    t = t[shuffle_index]\n",
    "    \n",
    "    # Split data into training and test sets\n",
    "    split_index = int(len(x) * ratio)\n",
    "    x_train = x[:split_index]\n",
    "    t_train = t[:split_index]\n",
    "    x_test = x[split_index:]\n",
    "    t_test = t[split_index:]\n",
    "    \n",
    "    return x_train, t_train, x_test, t_test\n",
    "\n",
    "def rms(error, N):\n",
    "    return np.sqrt((2*error)/N)\n"
   ]
  },
  {
   "cell_type": "code",
   "execution_count": 12,
   "metadata": {},
   "outputs": [],
   "source": [
    "def kfold_cv_k(x, t, M, k):\n",
    "    \"\"\"\n",
    "    K-Fold Cross Validation\n",
    "    \n",
    "    Parameters:\n",
    "    x (np.array): inputs, attributes.\n",
    "    t (np.array): outputs.\n",
    "    M (int): polynomial degree.\n",
    "    k (int): number of folds.\n",
    "    \n",
    "    Returns:\n",
    "    avg_error (float): average root mean squared error.\n",
    "    \"\"\"\n",
    "    data = np.concatenate((x.reshape(-1,1), t.reshape(-1,1)), axis=1)\n",
    "    # folds = np.array_split(data, k)\n",
    "    error_list = []\n",
    "    error_TRAINlist = []\n",
    "\n",
    "    # print(f\"data shape = {data.shape}\")\n",
    "    for i in range(k):\n",
    "        validation_indices = np.array([j for j in range(len(x)) if j % k == i])\n",
    "        # print(f\"k={k}, validation: {validation_indices.shape}\")\n",
    "        # print(validation_indices)\n",
    "        validation_fold = data[validation_indices]\n",
    "        # print(f\"valid f = {validation_fold.shape}\")\n",
    "        training_indices = np.array([j for j in range(len(x)) if j % k != i])\n",
    "        # print(f\"k={k}, training: {training_indices.shape}\")\n",
    "\n",
    "        training_folds = data[training_indices]\n",
    "        x_train, t_train = training_folds[:,0], training_folds[:,1]\n",
    "        phi_train = create_phi(x_train, M)\n",
    "        w_train = regularized_linear_regression(phi_train, t_train, 0)\n",
    "        ######\n",
    "        Y_train = prediction(x_train, phi_train, w_train)\n",
    "        error_TRAIN = errorfunction(Y_train, t_train)\n",
    "        error_TRAINlist.append(error_TRAIN)\n",
    "\n",
    "        ######\n",
    "        # print(f\"w_train = {w_train}\")\n",
    "\n",
    "        x_test, t_test = validation_fold[:,0], validation_fold[:,1]\n",
    "        phi_test = create_phi(x_test, M)\n",
    "        y_test = prediction(x_test, phi_test, w_train)\n",
    "        \n",
    "        error = errorfunction(y_test, t_test)\n",
    "        error_list.append(error)\n",
    "    avg_error = np.mean(error_list)\n",
    "    avg_TRAINerror = np.mean(error_TRAINlist)\n",
    "    \n",
    "    return avg_error, error_list, avg_TRAINerror, error_TRAINlist\n",
    "\n",
    "\n",
    "def solve_curve_fitting_k(x, t, M, k):\n",
    "\n",
    "    phi = np.array(create_phi(x, M))\n",
    "    w = regularized_linear_regression(phi, t, 0.0)\n",
    "    y = prediction(x, phi, w)    \n",
    "    error = errorfunction(y, t)\n",
    "    rms = np.sqrt(2*error/len(x))\n",
    "    k_fold = kfold_cv_k(x, t, M, k)\n",
    "    avg_error = k_fold[0]\n",
    "    errorlist = k_fold[1]\n",
    "    avg_TRAINerror = k_fold[2]\n",
    "    error_TRAINlist = k_fold[3]\n",
    "    # avg_error, errorlist, , error_TRAINlist = kfold_cv_k(x, t, M, k)\n",
    "    k_rms = np.sqrt(2*avg_error/len(x))\n",
    "    k_rms_TRAIN = np.sqrt(2*avg_TRAINerror/len(x))\n",
    "\n",
    "    return w, y, error, rms, avg_error, k_rms, errorlist, k_rms_TRAIN,error_TRAINlist\n",
    "    # return rms\n",
    "\n",
    "def plot_tt_k(x, t, m, ratio, k):\n",
    "    x_train, t_train, x_test, t_test = split_data(x, t, ratio)\n",
    "    M = np.arange(0, m)\n",
    "    train_rms = []\n",
    "    test_rms = []\n",
    "    for i in M:\n",
    "        rms = solve_curve_fitting_k(x, t, i, k)\n",
    "        train_rms.append(rms[7])\n",
    "        test_rms.append(rms[5])\n",
    "        \n",
    "    plt.plot(M, train_rms, '-o', label='Train RMS')\n",
    "    plt.plot(M, test_rms, '-o', label='Test RMS')\n",
    "    plt.xlabel('M (degree)')\n",
    "    plt.ylabel('RMS')\n",
    "    plt.legend()\n",
    "    plt.show()\n",
    "    return  train_rms, test_rms"
   ]
  },
  {
   "cell_type": "code",
   "execution_count": 13,
   "metadata": {},
   "outputs": [],
   "source": [
    "input = load_data(\"sampleData/X\")\n",
    "X, t = input\n",
    "M =40\n",
    "k = 5\n",
    "ratio = 8/10\n",
    "fit = solve_curve_fitting_k(X, t, M,k)\n",
    "w = fit[0]\n",
    "y = fit[1]\n",
    "error = fit[2]\n",
    "rms = fit[3]\n",
    "avg_error = fit[4]\n",
    "k_rms = fit[5]\n",
    "errorlist = fit[6]\n",
    "error_TRAINlist = fit[8]"
   ]
  },
  {
   "cell_type": "code",
   "execution_count": 14,
   "metadata": {},
   "outputs": [
    {
     "data": {
      "text/plain": [
       "[1944.515185579557,\n",
       " 1.601881727818094,\n",
       " 0.7400018070396216,\n",
       " 0.15051503831193264,\n",
       " 0.14519529283350247]"
      ]
     },
     "execution_count": 14,
     "metadata": {},
     "output_type": "execute_result"
    }
   ],
   "source": [
    "errorlist"
   ]
  },
  {
   "cell_type": "code",
   "execution_count": 15,
   "metadata": {},
   "outputs": [
    {
     "data": {
      "text/plain": [
       "[7783.527462582753,\n",
       " 6.055829676728428,\n",
       " 3.2107483450389696,\n",
       " 0.6554061945882376,\n",
       " 0.1555234396280391]"
      ]
     },
     "execution_count": 15,
     "metadata": {},
     "output_type": "execute_result"
    }
   ],
   "source": [
    "error_TRAINlist"
   ]
  },
  {
   "cell_type": "code",
   "execution_count": 16,
   "metadata": {},
   "outputs": [
    {
     "data": {
      "image/png": "[encoded data removed]",
      "text/plain": [
       "<Figure size 432x288 with 1 Axes>"
      ]
     },
     "metadata": {
      "needs_background": "light"
     },
     "output_type": "display_data"
    },
    {
     "name": "stdout",
     "output_type": "stream",
     "text": [
      "Coefficients: [ 1.79188650e-01  2.53136744e-02  4.93663038e+00 -5.95244286e+00\n",
      " -5.13684197e+01  8.57138038e+01  6.15143865e+02 -9.37553821e+02\n",
      " -4.61203085e+03  7.72513694e+03  1.94474924e+04 -3.86808659e+04\n",
      " -4.21733209e+04  1.09270550e+05  2.99813029e+04 -1.53234591e+05\n",
      "  4.23292109e+04  3.75218138e+04 -6.87243412e+04  1.51182561e+05\n",
      " -1.08851312e+04 -1.19166140e+05  2.00154966e+04 -2.08040720e+04\n",
      "  4.21579662e+04 -5.74460211e+04  1.09840021e+04  8.14168525e+04\n",
      "  1.11773685e+04  1.25396479e+05 -1.43056968e+05 -1.07484321e+05\n",
      "  5.53355265e+04 -9.69513070e+04  1.54359047e+04  7.33080224e+04\n",
      "  1.63546997e+05  3.28028159e+04 -2.10810312e+05 -2.39981567e+04\n",
      "  6.92833052e+04]\n",
      "Mean Squared Error: 389.43055588911204\n",
      "Root-Mean-Squared: 1.973399492979341\n"
     ]
    }
   ],
   "source": [
    "plt.plot(X, t, 'o', label='Target')\n",
    "plt.plot(X, y, '-', label='Prediction')\n",
    "plt.legend()\n",
    "plt.title('MSE: {:.2f}'.format(avg_error) + ' and K_RMS: {:.2f}'.format(k_rms))\n",
    "plt.show()\n",
    "\n",
    "    \n",
    "print('Coefficients:', w)\n",
    "# print('Predicted values:', y)\n",
    "print('Mean Squared Error:', avg_error)\n",
    "print('Root-Mean-Squared:', k_rms)"
   ]
  },
  {
   "cell_type": "code",
   "execution_count": 17,
   "metadata": {},
   "outputs": [
    {
     "data": {
      "image/png": "[encoded data removed]",
      "text/plain": [
       "<Figure size 432x288 with 1 Axes>"
      ]
     },
     "metadata": {
      "needs_background": "light"
     },
     "output_type": "display_data"
    }
   ],
   "source": [
    "train_rms, test_rms = plot_tt_k(X, t, M, ratio,k)\n"
   ]
  },
  {
   "cell_type": "code",
   "execution_count": 9,
   "metadata": {},
   "outputs": [
    {
     "data": {
      "text/plain": [
       "[0.22445783912747533,\n",
       " 0.18198153484551136,\n",
       " 0.11671871388307742,\n",
       " 0.02697275484358084,\n",
       " 0.025414607867196362,\n",
       " 0.015696955204961283,\n",
       " 0.015629876189701186,\n",
       " 0.015646737315888396,\n",
       " 0.015661851811126264,\n",
       " 0.015623252723277905,\n",
       " 0.01570203084361501,\n",
       " 0.01571458450462762,\n",
       " 0.015799804789142603,\n",
       " 0.015869107385078546,\n",
       " 0.0160289752403484,\n",
       " 0.01594450154132068,\n",
       " 0.016227616434613092,\n",
       " 0.015992679116784075,\n",
       " 0.015948415581492636,\n",
       " 0.01604314095608483,\n",
       " 0.015819106172790455,\n",
       " 0.015851853322936614,\n",
       " 0.016300493558997316,\n",
       " 0.019400356183901783,\n",
       " 0.049313247224089383,\n",
       " 0.048417184423643914,\n",
       " 0.05269519625849535,\n",
       " 0.09188929621131542,\n",
       " 0.1794852760316913,\n",
       " 0.12141642638104093,\n",
       " 0.12435843047640602,\n",
       " 0.2227725667829382,\n",
       " 0.19582907255206897,\n",
       " 0.2488306038087626,\n",
       " 0.14036642114654713,\n",
       " 0.1870365066023038,\n",
       " 0.19445466697478112,\n",
       " 3.1961143312115956,\n",
       " 0.24702886090923476,\n",
       " 0.571236634839527]"
      ]
     },
     "execution_count": 9,
     "metadata": {},
     "output_type": "execute_result"
    }
   ],
   "source": [
    "train_rms"
   ]
  },
  {
   "cell_type": "code",
   "execution_count": 10,
   "metadata": {},
   "outputs": [],
   "source": [
    "def when_diverges(train, test):\n",
    "    for i in range(5, len(train)):\n",
    "        if train[i] > train[i-1] and train[i] > test[i]:\n",
    "            return i\n",
    "        if test[i] > test[i-1] and test[i] > train[i]:\n",
    "            return i\n",
    "        # if train[i] > train[i-1] != (test[i] > test[i-1]):\n",
    "        #     return i\n",
    "    return None\n"
   ]
  },
  {
   "cell_type": "code",
   "execution_count": 11,
   "metadata": {},
   "outputs": [
    {
     "ename": "TypeError",
     "evalue": "unsupported operand type(s) for -: 'NoneType' and 'int'",
     "output_type": "error",
     "traceback": [
      "\u001b[0;31m---------------------------------------------------------------------------\u001b[0m",
      "\u001b[0;31mTypeError\u001b[0m                                 Traceback (most recent call last)",
      "\u001b[1;32m/Users/lorenzomendoza/Documents/CS_Courses/Current/CSC_246_ML/HW1/final_polyhunt.ipynb Cell 11\u001b[0m in \u001b[0;36m<cell line: 2>\u001b[0;34m()\u001b[0m\n\u001b[1;32m      <a href='vscode-notebook-cell:/Users/lorenzomendoza/Documents/CS_Courses/Current/CSC_246_ML/HW1/final_polyhunt.ipynb#X11sZmlsZQ%3D%3D?line=0'>1</a>\u001b[0m index \u001b[39m=\u001b[39m when_diverges(train_rms, test_rms)\n\u001b[0;32m----> <a href='vscode-notebook-cell:/Users/lorenzomendoza/Documents/CS_Courses/Current/CSC_246_ML/HW1/final_polyhunt.ipynb#X11sZmlsZQ%3D%3D?line=1'>2</a>\u001b[0m index \u001b[39m-\u001b[39;49m \u001b[39m1\u001b[39;49m\n",
      "\u001b[0;31mTypeError\u001b[0m: unsupported operand type(s) for -: 'NoneType' and 'int'"
     ]
    }
   ],
   "source": [
    "index = when_diverges(train_rms, test_rms)\n",
    "index - 1"
   ]
  }
 ],
 "metadata": {
  "kernelspec": {
   "display_name": "datascience",
   "language": "python",
   "name": "python3"
  },
  "language_info": {
   "codemirror_mode": {
    "name": "ipython",
    "version": 3
   },
   "file_extension": ".py",
   "mimetype": "text/x-python",
   "name": "python",
   "nbconvert_exporter": "python",
   "pygments_lexer": "ipython3",
   "version": "3.8.13"
  },
  "orig_nbformat": 4,
  "vscode": {
   "interpreter": {
    "hash": "d1bac6d4eaa728db5b6945d0f0b56975481c4ca70aefb764a80aaaaef5fe6f99"
   }
  }
 },
 "nbformat": 4,
 "nbformat_minor": 2
}
