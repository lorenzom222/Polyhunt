{
 "cells": [
  {
   "cell_type": "code",
   "execution_count": 17,
   "metadata": {},
   "outputs": [],
   "source": [
    "import numpy as np\n",
    "import matplotlib.pyplot as plt\n",
    "import time\n",
    "import argparse\n",
    "import sys"
   ]
  },
  {
   "cell_type": "code",
   "execution_count": 18,
   "metadata": {},
   "outputs": [],
   "source": [
    "def inverse_matrix(matrix):\n",
    "    det = np.linalg.det(matrix)\n",
    "    # if det == 0:\n",
    "    #     raise Exception(\"Matrix is not invertible\")\n",
    "    # else:\n",
    "    n = matrix.shape[0]\n",
    "    identity = np.identity(n)\n",
    "    augmented_matrix = np.column_stack((matrix, identity))\n",
    "    for i in range(n):\n",
    "        pivot = augmented_matrix[i, i]\n",
    "        augmented_matrix[i, :] /= pivot\n",
    "        for j in range(i + 1, n):\n",
    "            factor = augmented_matrix[j, i]\n",
    "            augmented_matrix[j, :] -= factor * augmented_matrix[i, :]\n",
    "    for i in range(n - 1, -1, -1):\n",
    "        for j in range(i - 1, -1, -1):\n",
    "            factor = augmented_matrix[j, i]\n",
    "            augmented_matrix[j, :] -= factor * augmented_matrix[i, :]\n",
    "    return augmented_matrix[:, n:]"
   ]
  },
  {
   "cell_type": "code",
   "execution_count": 19,
   "metadata": {},
   "outputs": [],
   "source": [
    "def load_data(filepath):\n",
    "    \"\"\"    \n",
    "    Parameters:\n",
    "    filepath (cvs): training data.\n",
    "\n",
    "    Returns:\n",
    "    x (np.array) : inputs, attributes.\n",
    "    y (np.array) : outputs.\n",
    "\n",
    "    \"\"\"\n",
    "    X, y = [], []\n",
    "    with open(filepath, 'r') as file:\n",
    "        for line in file:\n",
    "            x, y_ = line.strip().split(',')\n",
    "            X.append(float(x))\n",
    "            y.append(float(y_))\n",
    "    return np.array(X), np.array(y)\n",
    "\n",
    "\n",
    "def load_sol_data(filepath):\n",
    "    \"\"\"    \n",
    "    Parameters:\n",
    "    filepath (cvs): solution data.\n",
    "\n",
    "    Returns:\n",
    "    m (int) : polynomial degree.\n",
    "    w (np.array) : weights.\n",
    "\n",
    "    \"\"\"\n",
    "    with open(filepath, 'r') as file:\n",
    "        m = int(file.readline().strip())\n",
    "        w = []\n",
    "        for line in file:\n",
    "            w_ = float(line.strip())\n",
    "            w.append(w_)\n",
    "    return m, np.array(w)\n",
    "\n",
    "\n",
    "\n",
    "def create_phi(x, degree):\n",
    "    \"\"\"\n",
    "    This function creates a matrix of x values raised to powers.\n",
    "    :param x: numpy array of input data\n",
    "    :param degree: degree of the polynomial\n",
    "    :return: matrix of x values raised to powers\n",
    "    \"\"\"\n",
    "    matrix = np.zeros((len(x), degree + 1))\n",
    "    for i in range(len(x)):\n",
    "        for j in range(degree + 1):\n",
    "            matrix[i][j] = x[i] ** j\n",
    "    return matrix\n",
    "\n",
    "\n",
    "def regularized_linear_regression(phi, t, lambda_):\n",
    "    \"\"\"\n",
    "    Find the best fitting regularized weights for a linear model using equation 3.28 from PRML.\n",
    "\n",
    "    Parameters:\n",
    "    X : Training data input. (trainPath)\n",
    "    y : Training data output. (modelOutput)\n",
    "    lambda_ : Regularization parameter.\n",
    "\n",
    "    Returns:\n",
    "    w : Best regularized weights.\n",
    "    \"\"\"\n",
    "    i, size = phi.shape\n",
    "    phi_t = phi.transpose()\n",
    "    phit_phi = np.matmul(phi_t, phi)\n",
    "    id = np.identity(size)\n",
    "    phit_phi += lambda_ * id\n",
    "    phit_phi_inv = inverse_matrix(phit_phi)\n",
    "    # phit_phi_inv = np.linalg.inv(phit_phi)\n",
    "\n",
    "    w_reg = np.matmul(phit_phi_inv, phi_t)\n",
    "    w = np.matmul(w_reg, t)\n",
    "    return w\n",
    "\n",
    "\n",
    "# def sweep(X, m, lambda_):\n",
    "#     \"\"\"\n",
    "#     Sweep up to max polynomial (m).\n",
    "\n",
    "#     Parameters:\n",
    "#     X : Training data input. (trainPath)\n",
    "#     m : Given polynomial.\n",
    "#     lambda_ : Regularization parameter.\n",
    "\n",
    "#     Returns:\n",
    "#     weight_list : List of best regularized weights per polynomial.\n",
    "#     \"\"\"\n",
    "#     weight_list = []\n",
    "#     for i in range(m+1):\n",
    "#         phi_m = create_phi(X, i)\n",
    "#         weight = regularized_linear_regression(phi_m, t, 0)\n",
    "#         weight_list.append(weight)\n",
    "#     return weight_list\n",
    "\n",
    "\n",
    "def prediction(X, phi, w):\n",
    "    \"\"\"\n",
    "    Compute prediction for polynomial regression.\n",
    "\n",
    "    Parameters:\n",
    "    X (np.array) : Training data input.\n",
    "    phi (matrix) : Matrix of x values raised to powers.\n",
    "    w (np.array) : Best regularized weights.\n",
    "\n",
    "    Returns:\n",
    "    y(X, phi, w) : prediction.\n",
    "    \"\"\"\n",
    "\n",
    "    return np.dot(phi, w)\n",
    "\n",
    "\n",
    "def small_phi(phi, r):\n",
    "    return phi[r]\n",
    "\n",
    "\n",
    "def errorfunction(y, t):\n",
    "    error = 0.0\n",
    "    for i in range(len(y)):\n",
    "        error += (y[i]-t[i])**2\n",
    "\n",
    "    return 1/2*error\n",
    "\n",
    "def split_data(x, t, ratio):\n",
    "    # Shuffle data\n",
    "    shuffle_index = np.random.permutation(len(x))\n",
    "    x = x[shuffle_index]\n",
    "    t = t[shuffle_index]\n",
    "    \n",
    "    # Split data into training and test sets\n",
    "    split_index = int(len(x) * ratio)\n",
    "    x_train = x[:split_index]\n",
    "    t_train = t[:split_index]\n",
    "    x_test = x[split_index:]\n",
    "    t_test = t[split_index:]\n",
    "    \n",
    "    return x_train, t_train, x_test, t_test\n",
    "\n",
    "def rms(error, N):\n",
    "    return np.sqrt((2*error)/N)\n"
   ]
  },
  {
   "cell_type": "code",
   "execution_count": 20,
   "metadata": {},
   "outputs": [],
   "source": [
    "def kfold_cv_k(x, t, M, k):\n",
    "    \"\"\"\n",
    "    K-Fold Cross Validation\n",
    "    \n",
    "    Parameters:\n",
    "    x (np.array): inputs, attributes.\n",
    "    t (np.array): outputs.\n",
    "    M (int): polynomial degree.\n",
    "    k (int): number of folds.\n",
    "    \n",
    "    Returns:\n",
    "    avg_error (float): average root mean squared error.\n",
    "    \"\"\"\n",
    "    data = np.concatenate((x.reshape(-1,1), t.reshape(-1,1)), axis=1)\n",
    "    # folds = np.array_split(data, k)\n",
    "    error_list = []\n",
    "    error_TRAINlist = []\n",
    "\n",
    "    # print(f\"data shape = {data.shape}\")\n",
    "    for i in range(k):\n",
    "        validation_indices = np.array([j for j in range(len(x)) if j % k == i])\n",
    "        # print(f\"k={k}, validation: {validation_indices.shape}\")\n",
    "        # print(validation_indices)\n",
    "        validation_fold = data[validation_indices]\n",
    "        # print(f\"valid f = {validation_fold.shape}\")\n",
    "        training_indices = np.array([j for j in range(len(x)) if j % k != i])\n",
    "        # print(f\"k={k}, training: {training_indices.shape}\")\n",
    "\n",
    "        training_folds = data[training_indices]\n",
    "        x_train, t_train = training_folds[:,0], training_folds[:,1]\n",
    "        phi_train = create_phi(x_train, M)\n",
    "        w_train = regularized_linear_regression(phi_train, t_train, 0)\n",
    "        ######\n",
    "        Y_train = prediction(x_train, phi_train, w_train)\n",
    "        error_TRAIN = errorfunction(Y_train, t_train)\n",
    "        error_TRAINlist.append(error_TRAIN)\n",
    "\n",
    "        ######\n",
    "        # print(f\"w_train = {w_train}\")\n",
    "\n",
    "        x_test, t_test = validation_fold[:,0], validation_fold[:,1]\n",
    "        phi_test = create_phi(x_test, M)\n",
    "        y_test = prediction(x_test, phi_test, w_train)\n",
    "        \n",
    "        error = errorfunction(y_test, t_test)\n",
    "        error_list.append(error)\n",
    "        # print(f\"error = {error_list}\")\n",
    "\n",
    "    avg_error = np.mean(error_list)\n",
    "    avg_TRAINerror = np.mean(error_TRAINlist)\n",
    "    \n",
    "    return avg_error, error_list, avg_TRAINerror, error_TRAINlist\n",
    "\n",
    "\n",
    "def solve_curve_fitting_k(x, t, M, k):\n",
    "\n",
    "    phi = np.array(create_phi(x, M))\n",
    "    w = regularized_linear_regression(phi, t, 0.0)\n",
    "    y = prediction(x, phi, w)    \n",
    "    error = errorfunction(y, t)\n",
    "    rms = np.sqrt(2*error/len(x))\n",
    "    k_fold = kfold_cv_k(x, t, M, k)\n",
    "    avg_error = k_fold[0]\n",
    "    errorlist = k_fold[1]\n",
    "    avg_TRAINerror = k_fold[2]\n",
    "    error_TRAINlist = k_fold[3]\n",
    "    # avg_error, errorlist, , error_TRAINlist = kfold_cv_k(x, t, M, k)\n",
    "    k_rms = np.sqrt(2*avg_error/len(x))\n",
    "    k_rms_TRAIN = np.sqrt(2*avg_TRAINerror/len(x))\n",
    "\n",
    "    return w, y, error, rms, avg_error, k_rms, errorlist, k_rms_TRAIN,error_TRAINlist\n",
    "    # return rms\n",
    "\n",
    "def plot_tt_k(x, t, m, ratio, k):\n",
    "    x_train, t_train, x_test, t_test = split_data(x, t, ratio)\n",
    "    M = np.arange(0, m)\n",
    "    train_rms = []\n",
    "    test_rms = []\n",
    "    for i in M:\n",
    "        rms = solve_curve_fitting_k(x, t, i, k)\n",
    "        train_rms.append(rms[7])\n",
    "        test_rms.append(rms[5])\n",
    "        \n",
    "    plt.plot(M, train_rms, '-o', label='Train RMS')\n",
    "    plt.plot(M, test_rms, '-o', label='Test RMS')\n",
    "    plt.xlabel('M (degree)')\n",
    "    plt.ylabel('RMS')\n",
    "    plt.legend()\n",
    "    plt.show()\n",
    "    return  train_rms, test_rms"
   ]
  },
  {
   "cell_type": "code",
   "execution_count": 31,
   "metadata": {},
   "outputs": [],
   "source": [
    "input = load_data(\"sampleData/Z\")\n",
    "X, t = input\n",
    "M =40\n",
    "k = 5\n",
    "ratio = 7/10\n",
    "fit = solve_curve_fitting_k(X, t, M,k)\n",
    "w = fit[0]\n",
    "y = fit[1]\n",
    "error = fit[2]\n",
    "rms = fit[3]\n",
    "avg_error = fit[4]\n",
    "k_rms = fit[5]\n",
    "errorlist = fit[6]\n",
    "error_TRAINlist = fit[8]"
   ]
  },
  {
   "cell_type": "code",
   "execution_count": 22,
   "metadata": {},
   "outputs": [
    {
     "data": {
      "text/plain": [
       "[41.1754897999739,\n",
       " 3.6034111454018967,\n",
       " 8.488910350312324,\n",
       " 0.2411271604910471,\n",
       " 0.6885676092448727]"
      ]
     },
     "execution_count": 22,
     "metadata": {},
     "output_type": "execute_result"
    }
   ],
   "source": [
    "errorlist"
   ]
  },
  {
   "cell_type": "code",
   "execution_count": 23,
   "metadata": {},
   "outputs": [
    {
     "data": {
      "text/plain": [
       "[146.32037141934794,\n",
       " 16.82603598424939,\n",
       " 33.01592477768154,\n",
       " 1.1823229590528521,\n",
       " 3.1292763873427996]"
      ]
     },
     "execution_count": 23,
     "metadata": {},
     "output_type": "execute_result"
    }
   ],
   "source": [
    "error_TRAINlist"
   ]
  },
  {
   "cell_type": "code",
   "execution_count": 32,
   "metadata": {},
   "outputs": [
    {
     "data": {
      "image/png": "[encoded data removed]",
      "text/plain": [
       "<Figure size 432x288 with 1 Axes>"
      ]
     },
     "metadata": {
      "needs_background": "light"
     },
     "output_type": "display_data"
    },
    {
     "name": "stdout",
     "output_type": "stream",
     "text": [
      "Coefficients: [ 1.35751391e+00  1.81405780e-01  2.77180495e-01  2.90950905e+01\n",
      "  1.15690066e+01 -7.41649106e+02 -2.72992173e+02  8.78907552e+03\n",
      "  2.45146566e+03 -5.76361995e+04 -1.21804276e+04  2.21116858e+05\n",
      "  3.72701813e+04 -4.88772099e+05 -6.95618038e+04  5.27344914e+05\n",
      "  6.87227056e+04  1.11284390e+04 -2.03685871e+04 -6.01211228e+05\n",
      "  6.76284404e+03  4.04280493e+05 -4.75244686e+04  1.33672720e+03\n",
      " -1.07982542e+04  2.14933185e+05  9.79255759e+04 -1.96982134e+05\n",
      "  5.62170084e+04 -3.40351968e+05 -2.14062738e+05  1.69530998e+05\n",
      "  6.40094661e+04  4.81549782e+05  2.85222157e+04 -4.74719970e+05\n",
      "  1.19455083e+05  1.12520074e+05 -1.56694586e+05  7.85528653e+03\n",
      "  5.01156567e+04]\n",
      "Mean Squared Error: 1.7051043491316058\n",
      "Root-Mean-Squared: 0.13057964424563293\n"
     ]
    }
   ],
   "source": [
    "plt.plot(X, t, 'o', label='Target')\n",
    "plt.plot(X, y, '-', label='Prediction')\n",
    "plt.legend()\n",
    "plt.title('M: {:.0f}'.format(M)+' | Error: {:.2f}'.format(avg_error) + ' and K_RMS: {:.2f}'.format(k_rms))\n",
    "plt.show()\n",
    "\n",
    "    \n",
    "print('Coefficients:', w)\n",
    "# print('Predicted values:', y)\n",
    "print('Mean Squared Error:', avg_error)\n",
    "print('Root-Mean-Squared:', k_rms)"
   ]
  },
  {
   "cell_type": "code",
   "execution_count": 25,
   "metadata": {},
   "outputs": [
    {
     "data": {
      "image/png": "[encoded data removed]",
      "text/plain": [
       "<Figure size 432x288 with 1 Axes>"
      ]
     },
     "metadata": {
      "needs_background": "light"
     },
     "output_type": "display_data"
    }
   ],
   "source": [
    "train_rms, test_rms = plot_tt_k(X, t, M, ratio,k)\n"
   ]
  },
  {
   "cell_type": "code",
   "execution_count": 26,
   "metadata": {},
   "outputs": [
    {
     "data": {
      "text/plain": [
       "[0.547829575840074,\n",
       " 0.49615474232728596,\n",
       " 0.29369143477746895,\n",
       " 0.2928853436984059,\n",
       " 0.07981721710441114,\n",
       " 0.07824680165958227,\n",
       " 0.028796226979609898,\n",
       " 0.028237378128527287,\n",
       " 0.02810904473991214,\n",
       " 0.028088033419286135,\n",
       " 0.027942181304560238,\n",
       " 0.027928340399766775,\n",
       " 0.02759063608684332,\n",
       " 0.027495259410061628,\n",
       " 0.027428683510768145,\n",
       " 0.02741020289457102,\n",
       " 0.027140540560906173,\n",
       " 0.02711814460597188,\n",
       " 0.027081823425572978,\n",
       " 0.027053914216800992,\n",
       " 0.027015897044031168,\n",
       " 0.026983598498442604,\n",
       " 0.03239106885216953,\n",
       " 0.03779573633695428,\n",
       " 0.37466231672231265,\n",
       " 0.6146307898703677,\n",
       " 0.3026202451188551,\n",
       " 0.5415215454714701,\n",
       " 1.6600870603184499,\n",
       " 2.378745874002086,\n",
       " 0.5861989439752511,\n",
       " 13.720471820093707,\n",
       " 2.281686238187539,\n",
       " 1.7251412568018252,\n",
       " 2.711210999780015,\n",
       " 3.063844223350113,\n",
       " 2.7686274859120514,\n",
       " 0.993331588444345,\n",
       " 10.444509940266489,\n",
       " 0.6814707542717684]"
      ]
     },
     "execution_count": 26,
     "metadata": {},
     "output_type": "execute_result"
    }
   ],
   "source": [
    "train_rms"
   ]
  },
  {
   "cell_type": "code",
   "execution_count": 27,
   "metadata": {},
   "outputs": [],
   "source": [
    "def when_diverges(train, test):\n",
    "    for i in range(5, len(train)):\n",
    "        if train[i] > train[i-1] and train[i] > test[i]:\n",
    "            return i\n",
    "        if test[i] > test[i-1] and test[i] > train[i]:\n",
    "            return i\n",
    "        # if train[i] > train[i-1] != (test[i] > test[i-1]):\n",
    "        #     return i\n",
    "    return None\n"
   ]
  },
  {
   "cell_type": "code",
   "execution_count": 28,
   "metadata": {},
   "outputs": [
    {
     "data": {
      "text/plain": [
       "21"
      ]
     },
     "execution_count": 28,
     "metadata": {},
     "output_type": "execute_result"
    }
   ],
   "source": [
    "index = when_diverges(train_rms, test_rms)\n",
    "index - 1"
   ]
  }
 ],
 "metadata": {
  "kernelspec": {
   "display_name": "datascience",
   "language": "python",
   "name": "python3"
  },
  "language_info": {
   "codemirror_mode": {
    "name": "ipython",
    "version": 3
   },
   "file_extension": ".py",
   "mimetype": "text/x-python",
   "name": "python",
   "nbconvert_exporter": "python",
   "pygments_lexer": "ipython3",
   "version": "3.8.13"
  },
  "orig_nbformat": 4,
  "vscode": {
   "interpreter": {
    "hash": "d1bac6d4eaa728db5b6945d0f0b56975481c4ca70aefb764a80aaaaef5fe6f99"
   }
  }
 },
 "nbformat": 4,
 "nbformat_minor": 2
}
