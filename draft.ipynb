{
 "cells": [
  {
   "cell_type": "code",
   "execution_count": 7,
   "metadata": {},
   "outputs": [],
   "source": [
    "import numpy as np\n",
    "import matplotlib.pyplot as plt\n",
    "import time\n",
    "import argparse\n",
    "import sys"
   ]
  },
  {
   "cell_type": "code",
   "execution_count": 8,
   "metadata": {},
   "outputs": [],
   "source": [
    "def load_data(filepath):\n",
    "    \"\"\"    \n",
    "    Parameters:\n",
    "    filepath (cvs): training data.\n",
    "\n",
    "    Returns:\n",
    "    x (np.array) : inputs, attributes.\n",
    "    y (np.array) : outputs.\n",
    "\n",
    "    \"\"\"\n",
    "    X, y = [], []\n",
    "    with open(filepath, 'r') as file:\n",
    "        for line in file:\n",
    "            x, y_ = line.strip().split(',')\n",
    "            X.append(float(x))\n",
    "            y.append(float(y_))\n",
    "    return np.array(X), np.array(y)\n",
    "\n",
    "\n",
    "def load_sol_data(filepath):\n",
    "    \"\"\"    \n",
    "    Parameters:\n",
    "    filepath (cvs): solution data.\n",
    "\n",
    "    Returns:\n",
    "    m (int) : polynomial degree.\n",
    "    w (np.array) : weights.\n",
    "\n",
    "    \"\"\"\n",
    "    with open(filepath, 'r') as file:\n",
    "        m = int(file.readline().strip())\n",
    "        w = []\n",
    "        for line in file:\n",
    "            w_ = float(line.strip())\n",
    "            w.append(w_)\n",
    "    return m, np.array(w)\n",
    "\n",
    "\n",
    "\n",
    "def create_phi(x, degree):\n",
    "    \"\"\"\n",
    "    This function creates a matrix of x values raised to powers.\n",
    "    :param x: numpy array of input data\n",
    "    :param degree: degree of the polynomial\n",
    "    :return: matrix of x values raised to powers\n",
    "    \"\"\"\n",
    "    matrix = np.zeros((len(x), degree + 1))\n",
    "    for i in range(len(x)):\n",
    "        for j in range(degree + 1):\n",
    "            matrix[i][j] = x[i] ** j\n",
    "    return matrix\n",
    "\n",
    "\n",
    "def regularized_linear_regression(phi, t, lambda_):\n",
    "    \"\"\"\n",
    "    Find the best fitting regularized weights for a linear model using equation 3.28 from PRML.\n",
    "\n",
    "    Parameters:\n",
    "    X : Training data input. (trainPath)\n",
    "    y : Training data output. (modelOutput)\n",
    "    lambda_ : Regularization parameter.\n",
    "\n",
    "    Returns:\n",
    "    w : Best regularized weights.\n",
    "    \"\"\"\n",
    "    i, size = phi.shape\n",
    "    phi_t = phi.transpose()\n",
    "    phit_phi = np.matmul(phi_t, phi)\n",
    "    id = np.identity(size)\n",
    "    phit_phi += lambda_ * id\n",
    "    phit_phi_inv = np.linalg.inv(phit_phi)\n",
    "    w_reg = np.matmul(phit_phi_inv, phi_t)\n",
    "    w = np.matmul(w_reg, t)\n",
    "    return w\n",
    "\n",
    "\n",
    "def sweep(X, m, lambda_):\n",
    "    \"\"\"\n",
    "    Sweep up to max polynomial (m).\n",
    "\n",
    "    Parameters:\n",
    "    X : Training data input. (trainPath)\n",
    "    m : Given polynomial.\n",
    "    lambda_ : Regularization parameter.\n",
    "\n",
    "    Returns:\n",
    "    weight_list : List of best regularized weights per polynomial.\n",
    "    \"\"\"\n",
    "    weight_list = []\n",
    "    for i in range(m+1):\n",
    "        phi_m = create_phi(X, i)\n",
    "        weight = regularized_linear_regression(phi_m, t, 0)\n",
    "        weight_list.append(weight)\n",
    "    return weight_list\n",
    "\n",
    "\n",
    "def prediction(X, phi, w):\n",
    "    \"\"\"\n",
    "    Compute prediction for polynomial regression.\n",
    "\n",
    "    Parameters:\n",
    "    X (np.array) : Training data input.\n",
    "    phi (matrix) : Matrix of x values raised to powers.\n",
    "    w (np.array) : Best regularized weights.\n",
    "\n",
    "    Returns:\n",
    "    y(X, phi, w) : prediction.\n",
    "    \"\"\"\n",
    "\n",
    "    return np.dot(phi, w)\n",
    "\n",
    "\n",
    "def small_phi(phi, r):\n",
    "    return phi[r]\n",
    "\n",
    "\n",
    "def errorfunction(y, t):\n",
    "    error = 0.0\n",
    "    for i in range(len(y)):\n",
    "        error += (y[i]-t[i])**2\n",
    "\n",
    "    return 1/2*error\n",
    "\n",
    "def split_data(x, t, ratio):\n",
    "    # Shuffle data\n",
    "    shuffle_index = np.random.permutation(len(x))\n",
    "    x = x[shuffle_index]\n",
    "    t = t[shuffle_index]\n",
    "    \n",
    "    # Split data into training and test sets\n",
    "    split_index = int(len(x) * ratio)\n",
    "    x_train = x[:split_index]\n",
    "    t_train = t[:split_index]\n",
    "    x_test = x[split_index:]\n",
    "    t_test = t[split_index:]\n",
    "    \n",
    "    return x_train, t_train, x_test, t_test\n",
    "\n",
    "def rms(error, N):\n",
    "    return np.sqrt((2*error)/N)\n"
   ]
  },
  {
   "cell_type": "code",
   "execution_count": 14,
   "metadata": {},
   "outputs": [],
   "source": [
    "def solve_curve_fitting(x, t, M, gamma):\n",
    "    phi = np.array(create_phi(x, M))\n",
    "    w = regularized_linear_regression(phi, t, gamma)\n",
    "    y = prediction(x, phi, w)\n",
    "    error = errorfunction(y, t)\n",
    "    rms = np.sqrt(2*error/len(x))\n",
    "\n",
    "    return w, y, error, rms\n",
    "\n",
    "\n",
    "def split_data(x, t, ratio):\n",
    "    # Shuffle data\n",
    "    shuffle_index = np.random.permutation(len(x))\n",
    "    x = x[shuffle_index]\n",
    "    t = t[shuffle_index]\n",
    "\n",
    "    # Split data into training and test sets\n",
    "    split_index = int(len(x) * ratio)\n",
    "    x_train = x[:split_index]\n",
    "    t_train = t[:split_index]\n",
    "    x_test = x[split_index:]\n",
    "    t_test = t[split_index:]\n",
    "\n",
    "    return x_train, t_train, x_test, t_test\n",
    "\n",
    "def plot_tt(x, t, m, ratio, gamma, plots):\n",
    "    x_train, t_train, x_test, t_test = split_data(x, t, ratio)\n",
    "    M = np.arange(0, m)\n",
    "    train_rms = []\n",
    "    test_rms = []\n",
    "    for i in M:\n",
    "        rms_train = solve_curve_fitting(x_train, t_train, i, gamma)\n",
    "        train_rms.append(rms_train[3])\n",
    "        rms_test = solve_curve_fitting(x_test, t_test, i, gamma)\n",
    "        test_rms.append(rms_test[3])\n",
    "    if(plots):\n",
    "        plt.plot(M, train_rms, '-o', label='Train RMS')\n",
    "        plt.plot(M, test_rms, '-o', label='Test RMS')\n",
    "        plt.xlabel('M (degree)')\n",
    "        plt.ylabel('RMS')\n",
    "        plt.legend()\n",
    "        plt.show()\n",
    "    return train_rms, test_rms\n",
    "\n",
    "\n"
   ]
  },
  {
   "cell_type": "code",
   "execution_count": 10,
   "metadata": {},
   "outputs": [],
   "source": [
    "input = load_data(\"sampleData/X\")\n",
    "X, t = input\n",
    "M =15\n",
    "k = 5"
   ]
  },
  {
   "cell_type": "code",
   "execution_count": 15,
   "metadata": {},
   "outputs": [
    {
     "data": {
      "image/png": "[encoded data removed]",
      "text/plain": [
       "<Figure size 432x288 with 1 Axes>"
      ]
     },
     "metadata": {
      "needs_background": "light"
     },
     "output_type": "display_data"
    },
    {
     "name": "stdout",
     "output_type": "stream",
     "text": [
      "Coefficients: [ 3.18656378e-01 -2.92277035e-01  1.43274835e+00  2.51018588e+00\n",
      " -2.11445170e+00 -2.02837804e+01  6.09632539e+00  1.05258188e+02\n",
      " -7.48198382e+00 -2.76705462e+02  1.80922370e+00  3.92974389e+02\n",
      "  2.84819829e+00 -2.82905407e+02 -1.60599046e+00  8.07341100e+01]\n",
      "Mean Squared Error: 0.10688156452466986\n",
      "Root-Mean-Squared: 0.03269274606463487\n"
     ]
    }
   ],
   "source": [
    "\n",
    "fit = solve_curve_fitting(X, t, M, 0.0)\n",
    "w = fit[0]\n",
    "y = fit[1]\n",
    "error = fit[2]\n",
    "rms = fit[3]\n",
    "\n",
    "plt.plot(X, t, 'o', label='Target')\n",
    "plt.plot(X, y, '-', label='Prediction')\n",
    "plt.legend()\n",
    "plt.title('MSE: {:.2f}'.format(error) + ' and K_RMS: {:.2f}'.format(rms))\n",
    "plt.show()\n",
    "\n",
    "    \n",
    "print('Coefficients:', w)\n",
    "# print('Predicted values:', y)\n",
    "print('Mean Squared Error:', error)\n",
    "print('Root-Mean-Squared:', rms)"
   ]
  },
  {
   "cell_type": "code",
   "execution_count": 21,
   "metadata": {},
   "outputs": [
    {
     "data": {
      "text/plain": [
       "array([0.46863906, 0.38718049, 0.26735525, 0.06239916, 0.05700922,\n",
       "       0.03556047, 0.0352007 , 0.03513691, 0.03513334, 0.03489614,\n",
       "       0.03482668, 0.03471021, 0.03470168, 0.03456204, 0.03455562])"
      ]
     },
     "execution_count": 21,
     "metadata": {},
     "output_type": "execute_result"
    }
   ],
   "source": [
    "ratio = 7/10\n",
    "train_rms, test_rms = plot_tt(X, t, M, ratio, 0.0, False)\n",
    "np.array(train_rms)"
   ]
  },
  {
   "cell_type": "code",
   "execution_count": 22,
   "metadata": {},
   "outputs": [
    {
     "ename": "AttributeError",
     "evalue": "'list' object has no attribute 'min'",
     "output_type": "error",
     "traceback": [
      "\u001b[0;31m---------------------------------------------------------------------------\u001b[0m",
      "\u001b[0;31mAttributeError\u001b[0m                            Traceback (most recent call last)",
      "\u001b[1;32m/Users/lorenzomendoza/Documents/CS_Courses/Current/CSC_246_ML/HW1/draft.ipynb Cell 7\u001b[0m in \u001b[0;36m<cell line: 2>\u001b[0;34m()\u001b[0m\n\u001b[1;32m      <a href='vscode-notebook-cell:/Users/lorenzomendoza/Documents/CS_Courses/Current/CSC_246_ML/HW1/draft.ipynb#X10sZmlsZQ%3D%3D?line=0'>1</a>\u001b[0m a \u001b[39m=\u001b[39m np\u001b[39m.\u001b[39marray([\u001b[39m1\u001b[39m,\u001b[39m2\u001b[39m,\u001b[39m3\u001b[39m,\u001b[39m4\u001b[39m,\u001b[39m5\u001b[39m,\u001b[39m1\u001b[39m,\u001b[39m6\u001b[39m,\u001b[39m1\u001b[39m]) \n\u001b[0;32m----> <a href='vscode-notebook-cell:/Users/lorenzomendoza/Documents/CS_Courses/Current/CSC_246_ML/HW1/draft.ipynb#X10sZmlsZQ%3D%3D?line=1'>2</a>\u001b[0m \u001b[39mprint\u001b[39m( np\u001b[39m.\u001b[39mwhere(train_rms \u001b[39m==\u001b[39m train_rms\u001b[39m.\u001b[39;49mmin()))\n",
      "\u001b[0;31mAttributeError\u001b[0m: 'list' object has no attribute 'min'"
     ]
    }
   ],
   "source": [
    "a = np.array([1,2,3,4,5,1,6,1]) \n",
    "print( np.where(train_rms == train_rms.min()))"
   ]
  }
 ],
 "metadata": {
  "kernelspec": {
   "display_name": "datascience",
   "language": "python",
   "name": "python3"
  },
  "language_info": {
   "codemirror_mode": {
    "name": "ipython",
    "version": 3
   },
   "file_extension": ".py",
   "mimetype": "text/x-python",
   "name": "python",
   "nbconvert_exporter": "python",
   "pygments_lexer": "ipython3",
   "version": "3.8.13"
  },
  "orig_nbformat": 4,
  "vscode": {
   "interpreter": {
    "hash": "d1bac6d4eaa728db5b6945d0f0b56975481c4ca70aefb764a80aaaaef5fe6f99"
   }
  }
 },
 "nbformat": 4,
 "nbformat_minor": 2
}
